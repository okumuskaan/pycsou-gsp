{
 "cells": [
  {
   "cell_type": "code",
   "execution_count": null,
   "id": "122b5819",
   "metadata": {},
   "outputs": [],
   "source": [
    "%load_ext autoreload\n",
    "%autoreload 2"
   ]
  },
  {
   "cell_type": "code",
   "execution_count": null,
   "id": "b397679b",
   "metadata": {},
   "outputs": [],
   "source": [
    "import matplotlib.pyplot as plt\n",
    "import numpy as np\n",
    "import pygsp\n",
    "import healpy as hp\n",
    "import pycgsp"
   ]
  },
  {
   "cell_type": "markdown",
   "id": "1a389b86",
   "metadata": {},
   "source": [
    "## Ground truth sky"
   ]
  },
  {
   "cell_type": "code",
   "execution_count": null,
   "id": "b3056df9",
   "metadata": {},
   "outputs": [],
   "source": [
    "# Let's create an empty healpix map\n",
    "nside = 2**9\n",
    "gt = np.zeros(hp.pixelfunc.nside2npix(nside))\n",
    "\n",
    "# Let's work on a field of view of 20 degrees, centered at [0, 0, 0]\n",
    "fov = 20 / 180 * np.pi # rad\n",
    "zoom = hp.query_disc(nside, [0, 0, 0], radius=fov/2)\n",
    "\n",
    "# Let's add some circles to our sky\n",
    "n_circles = 10\n",
    "circles = []\n",
    "rng = np.random.default_rng(0)\n",
    "for i in range(n_circles):\n",
    "    max_size = fov / 5\n",
    "    size = rng.uniform(low=max_size/2, high=max_size) \n",
    "    pos = rng.uniform(low=-fov/2 + max_size, high=fov/2 - max_size, size=2)\n",
    "    # 3rd dimension enforces to be located on the sphere\n",
    "    pos = np.concatenate([pos, np.sqrt(1 - (pos**2).sum(keepdims=True))])\n",
    "    circles.append((pos, size))\n",
    "    \n",
    "    # Draw circles\n",
    "    ids = hp.query_disc(nside=nside, vec=pos, radius= size/2)\n",
    "    gt[ids] += 1.\n",
    "\n",
    "gt /= gt.max()\n",
    "\n",
    "print(len(gt))"
   ]
  },
  {
   "cell_type": "code",
   "execution_count": null,
   "id": "7edb85c7",
   "metadata": {},
   "outputs": [],
   "source": [
    "hp.orthview(gt, cmap=\"cubehelix\", rot=(0, 90, 0), half_sky=True)"
   ]
  },
  {
   "cell_type": "code",
   "execution_count": null,
   "id": "0b205580",
   "metadata": {},
   "outputs": [],
   "source": [
    "hp.gnomview(gt, rot=(0, 90,0), xsize=1000, cmap=\"cubehelix\")"
   ]
  },
  {
   "cell_type": "markdown",
   "id": "dea4b96e",
   "metadata": {},
   "source": [
    "## Create spherical graph"
   ]
  },
  {
   "cell_type": "code",
   "execution_count": null,
   "id": "8216463e",
   "metadata": {},
   "outputs": [],
   "source": [
    "from functools import partial\n",
    "from scipy import sparse, spatial, linalg\n",
    "import time\n",
    "def _kernel_exponential(distance, power=1, value_at_one=0.5):\n",
    "        cst = np.log(value_at_one)\n",
    "        return np.exp(cst * distance**power)\n",
    "\n",
    "def hpix_nngraph(hpix_map, ids=None):\n",
    "    if ids is None:\n",
    "        ids = np.arange(npix)\n",
    "        \n",
    "    npix = len(hpix_map)\n",
    "    nside = hp.npix2nside(npix)\n",
    "    x, y, z = hp.pix2vec(nside, ids)\n",
    "    R = np.stack((x, y, z), axis=-1)\n",
    "    G = pygsp.graphs.NNGraph(R, k=8)\n",
    "    W = G.W.tocoo()\n",
    "    extended_row = np.concatenate([W.row, W.col])\n",
    "    extended_col = np.concatenate([W.col, W.row])\n",
    "    W.row, W.col = extended_row, extended_col\n",
    "    W.data = np.concatenate([W.data, W.data])\n",
    "    W = W.tocsr().tocoo()\n",
    "    distance = linalg.norm(R[W.row, :] - R[W.col, :], axis=-1)\n",
    "    rho = np.mean(distance)\n",
    "    W.data = np.exp(- (distance / rho) ** 2)\n",
    "    W = W.tocsc()\n",
    "    return W, R\n",
    "\n",
    "W, R = hpix_nngraph(gt, zoom)\n",
    "sphere = pygsp.graphs.Graph(W, coords=R)\n",
    "sphere.N, sphere.Ne"
   ]
  },
  {
   "cell_type": "markdown",
   "id": "ced747d4",
   "metadata": {},
   "source": [
    "## Create measured data on sphere\n"
   ]
  },
  {
   "cell_type": "code",
   "execution_count": null,
   "id": "fb6a1f9e",
   "metadata": {},
   "outputs": [],
   "source": [
    "import pycgsp.operator.linop.conv as pycgspc\n",
    "import pycgsp.operator.linop.diff as pycgspd\n",
    "\n",
    "laplacian = pycgspd.GraphLaplacian(W)\n",
    "lmax = laplacian.lipschitz(tight=False)\n",
    "kernel = lambda x: np.exp(-5*abs(x))\n",
    "conv, _, _ = pycgspc.GraphConvolution(L=laplacian, \n",
    "                             kernel=kernel,\n",
    "                             lmax=laplacian.lipschitz(tight=True),\n",
    "                             order=20)\n",
    "conv.lipschitz(tight=True)\n",
    "n = 0.05*np.random.randn(sphere.N)"
   ]
  },
  {
   "cell_type": "code",
   "execution_count": null,
   "id": "931949f0",
   "metadata": {},
   "outputs": [],
   "source": [
    "y = np.zeros_like(gt)\n",
    "y[zoom] = conv(gt[zoom]) + n\n",
    "\n",
    "hp.gnomview(gt, rot=(0, 90,0), xsize=1000, cmap=\"cubehelix\")\n",
    "hp.gnomview(y, rot=(0, 90,0), xsize=1000, cmap=\"cubehelix\")"
   ]
  },
  {
   "cell_type": "markdown",
   "id": "383b614a",
   "metadata": {},
   "source": [
    "## Create direction cosine grid (tangent plane approximation) and interpolate"
   ]
  },
  {
   "cell_type": "code",
   "execution_count": null,
   "id": "521aa15d",
   "metadata": {},
   "outputs": [],
   "source": [
    "resolution = hp.nside2resol(nside)\n",
    "dcos_ax = np.arange(-fov/2, fov/2, resolution)\n",
    "n_pix = len(dcos_ax)\n",
    "dcos_x, dcos_y = np.meshgrid(dcos_ax, -dcos_ax)\n",
    "dcos = np.stack([dcos_x.ravel(), dcos_y.ravel(), np.sqrt(1- dcos_x.ravel()**2 + dcos_y.ravel()**2)]).T\n",
    "\n",
    "theta, phi = hp.pixelfunc.vec2ang(dcos, lonlat=False)\n",
    "y_dcos = hp.pixelfunc.get_interp_val(y, theta, phi, nest=False, lonlat=False).reshape(n_pix, n_pix).T"
   ]
  },
  {
   "cell_type": "code",
   "execution_count": null,
   "id": "1f190cd2",
   "metadata": {},
   "outputs": [],
   "source": [
    "plt.imshow(y_dcos, cmap=\"cubehelix\", interpolation='none', extent=[-fov/2,fov/2,-fov/2,fov/2])\n",
    "plt.colorbar()\n",
    "plt.xlabel(\"l\")\n",
    "plt.ylabel(\"m\")\n",
    "plt.title(\"Tangent plane projection (Direction cosines)\")"
   ]
  },
  {
   "cell_type": "markdown",
   "id": "00f6d383",
   "metadata": {},
   "source": [
    "## Reconstruct in Sphere graph vs in tangent plane"
   ]
  },
  {
   "cell_type": "code",
   "execution_count": null,
   "id": "dc90cc42",
   "metadata": {},
   "outputs": [],
   "source": [
    "from pycsou.opt.solver.pds import PD3O\n",
    "from pycsou.operator.func import SquaredL2Norm, L1Norm"
   ]
  },
  {
   "cell_type": "markdown",
   "id": "d5168649",
   "metadata": {},
   "source": [
    "### In spherical graph"
   ]
  },
  {
   "cell_type": "code",
   "execution_count": null,
   "id": "acd5ea9d",
   "metadata": {},
   "outputs": [],
   "source": [
    "l22_loss = (1/2) * SquaredL2Norm(zoom.size).argshift(-y[zoom])\n",
    "fidelity = l22_loss * conv\n",
    "fidelity.diff_lipschitz(tight=True)\n",
    "K = pycgspd.GraphGradient(W)\n",
    "K.lipschitz(tight=True)"
   ]
  },
  {
   "cell_type": "code",
   "execution_count": null,
   "id": "ea2537d2",
   "metadata": {},
   "outputs": [],
   "source": [
    "H = 0.01 * L1Norm()\n",
    "G = 0.01 * L1Norm()\n",
    "loss = fidelity + G + H * K\n",
    "x0 = np.random.randn(zoom.size)\n",
    "print(fidelity(x0))\n",
    "print(G(x0))\n",
    "print((H * K)(x0))\n",
    "print(loss(x0))"
   ]
  },
  {
   "cell_type": "code",
   "execution_count": null,
   "id": "7178e9dd",
   "metadata": {
    "scrolled": true
   },
   "outputs": [],
   "source": [
    "solver = PD3O(f=fidelity, g=G, h=H, K=K, show_progress=True, verbosity=250)\n",
    "solver.fit(x0=x0, tuning_strategy=2)\n",
    "recons = solver.solution()"
   ]
  },
  {
   "cell_type": "code",
   "execution_count": null,
   "id": "05d589a7",
   "metadata": {},
   "outputs": [],
   "source": [
    "y_recons = np.zeros_like(gt)\n",
    "y_recons[zoom] = recons\n",
    "hp.gnomview(gt, rot=(0, 90,0), xsize=1000, cmap=\"cubehelix\")\n",
    "hp.gnomview(y, rot=(0, 90,0), xsize=1000, cmap=\"cubehelix\")\n",
    "hp.gnomview(y_recons, rot=(0, 90,0), xsize=1000, cmap=\"cubehelix\")\n",
    "plt.show()"
   ]
  },
  {
   "cell_type": "markdown",
   "id": "dc5b3473",
   "metadata": {},
   "source": [
    "### In tangent plane projection"
   ]
  },
  {
   "cell_type": "code",
   "execution_count": null,
   "id": "8348ba15",
   "metadata": {},
   "outputs": [],
   "source": [
    "from pycsou.operator.linop import Gradient, Convolve"
   ]
  },
  {
   "cell_type": "code",
   "execution_count": null,
   "id": "7e57b1d9",
   "metadata": {},
   "outputs": [],
   "source": [
    "k_width = 10\n",
    "support = np.arange(-k_width//2, k_width//2 + 1) * resolution\n",
    "dcos_kernel = kernel(support)\n",
    "dcos_kernel /= dcos_kernel.sum()\n",
    "\n",
    "plt.plot(support, dcos_kernel)\n",
    "plt.show()"
   ]
  },
  {
   "cell_type": "code",
   "execution_count": null,
   "id": "9b79eb1a",
   "metadata": {},
   "outputs": [],
   "source": [
    "arg_shape = y_dcos.shape\n",
    "conv_dcos = Convolve(arg_shape=arg_shape,\n",
    "                     kernel=[dcos_kernel, dcos_kernel],\n",
    "                     center=[len(dcos_kernel)//2, len(dcos_kernel)//2])\n",
    "l22_loss = (1/2) * SquaredL2Norm(y_dcos.size).argshift(-y_dcos.ravel())\n",
    "fidelity = l22_loss * conv_dcos\n",
    "fidelity.diff_lipschitz(tight=False)\n",
    "K = Gradient(arg_shape=y_dcos.shape)\n",
    "K.lipschitz(tight=False)"
   ]
  },
  {
   "cell_type": "code",
   "execution_count": null,
   "id": "495abd98",
   "metadata": {
    "scrolled": true
   },
   "outputs": [],
   "source": [
    "H = 0.01 * L1Norm()\n",
    "G = 0.01 * L1Norm()\n",
    "loss = fidelity + G + H * K\n",
    "x0 = np.random.randn(y_dcos.size)\n",
    "print(fidelity(x0))\n",
    "print(G(x0))\n",
    "print((H * K)(x0))\n",
    "print(loss(x0))"
   ]
  },
  {
   "cell_type": "code",
   "execution_count": null,
   "id": "fb996ec3",
   "metadata": {
    "scrolled": false
   },
   "outputs": [],
   "source": [
    "solver = PD3O(f=fidelity, g=G, h=H, K=K, show_progress=True, verbosity=250)\n",
    "solver.fit(x0=x0, tuning_strategy=2)\n",
    "recons_dcos = solver.solution().reshape(n_pix, n_pix)"
   ]
  },
  {
   "cell_type": "code",
   "execution_count": null,
   "id": "6741cc23",
   "metadata": {},
   "outputs": [],
   "source": [
    "plt.figure(figsize=(15,5))\n",
    "plt.subplot(121)\n",
    "plt.imshow(y_dcos, cmap=\"cubehelix\", interpolation='none', extent=[-fov/2,fov/2,-fov/2,fov/2])\n",
    "plt.colorbar()\n",
    "plt.xlabel(\"l\")\n",
    "plt.ylabel(\"m\")\n",
    "plt.title(\"Tangent plane projection (Direction cosines)\")\n",
    "plt.subplot(122)\n",
    "plt.imshow(recons_dcos, cmap=\"cubehelix\", interpolation='none', extent=[-fov/2,fov/2,-fov/2,fov/2])\n",
    "plt.colorbar()\n",
    "plt.xlabel(\"l\")\n",
    "plt.ylabel(\"m\")\n",
    "plt.title(\"Reconstruction\")\n",
    "plt.show()"
   ]
  },
  {
   "cell_type": "code",
   "execution_count": null,
   "id": "26491ca2",
   "metadata": {},
   "outputs": [],
   "source": [
    "# Interpolate back to original positions in sphere\n",
    "from scipy.interpolate import interpn\n",
    "y_recons_dcos = np.zeros_like(gt)    \n",
    "y_recons_dcos[zoom] = interpn(\n",
    "    (dcos_ax, dcos_ax), \n",
    "    np.fliplr(recons_dcos),\n",
    "    R[:, :2],\n",
    "    method=\"linear\",\n",
    "    bounds_error=False,\n",
    "    fill_value=np.nan,\n",
    ")\n"
   ]
  },
  {
   "cell_type": "code",
   "execution_count": null,
   "id": "4e377cfb",
   "metadata": {},
   "outputs": [],
   "source": [
    "hp.gnomview(y_recons, rot=(0, 90,0), xsize=1000, cmap=\"cubehelix\")\n",
    "hp.gnomview(y_recons_dcos, rot=(0, 90,0), xsize=1000, cmap=\"cubehelix\")\n",
    "plt.show()"
   ]
  },
  {
   "cell_type": "code",
   "execution_count": null,
   "id": "33c079f8",
   "metadata": {},
   "outputs": [],
   "source": [
    "nmse = lambda x, y: np.linalg.norm(x - y) / np.linalg.norm(x)\n",
    "print(f\"Error for HPix grid = {nmse(gt[zoom],y_recons[zoom])*100:0.2f}%\")\n",
    "print(f\"Error for DCOS grid = {nmse(gt[zoom],y_recons_dcos[zoom])*100:0.2f}%\")"
   ]
  }
 ],
 "metadata": {
  "kernelspec": {
   "display_name": "Python 3 (ipykernel)",
   "language": "python",
   "name": "python3"
  },
  "language_info": {
   "codemirror_mode": {
    "name": "ipython",
    "version": 3
   },
   "file_extension": ".py",
   "mimetype": "text/x-python",
   "name": "python",
   "nbconvert_exporter": "python",
   "pygments_lexer": "ipython3",
   "version": "3.10.10"
  }
 },
 "nbformat": 4,
 "nbformat_minor": 5
}
