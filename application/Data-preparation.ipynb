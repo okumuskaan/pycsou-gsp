{
 "cells": [
  {
   "cell_type": "code",
   "execution_count": null,
   "id": "122b5819",
   "metadata": {},
   "outputs": [],
   "source": [
    "%load_ext autoreload\n",
    "%autoreload 2"
   ]
  },
  {
   "cell_type": "code",
   "execution_count": null,
   "id": "b397679b",
   "metadata": {},
   "outputs": [],
   "source": [
    "import matplotlib.pyplot as plt\n",
    "import numpy as np\n",
    "import pygsp\n",
    "import healpy as hp\n",
    "import pycgsp"
   ]
  },
  {
   "cell_type": "markdown",
   "id": "1a389b86",
   "metadata": {},
   "source": [
    "## Ground truth sky"
   ]
  },
  {
   "cell_type": "code",
   "execution_count": null,
   "id": "b3056df9",
   "metadata": {},
   "outputs": [],
   "source": [
    "wham_gt = hp.read_map(\"data/lambda_WHAM_1_256.fits\")\n",
    "nside = 2*16\n",
    "wham_gt -=  wham_gt.min() - 1e-7\n",
    "wham_gt = np.log10(wham_gt)\n",
    "wham_gt -=  wham_gt.min()\n",
    "wham_gt /=  np.max(wham_gt)\n",
    "wham_gt = hp.pixelfunc.ud_grade(wham_gt, nside)"
   ]
  },
  {
   "cell_type": "code",
   "execution_count": null,
   "id": "ad8496dd",
   "metadata": {
    "scrolled": false
   },
   "outputs": [],
   "source": [
    "hp.orthview(wham_gt, cmap=\"cubehelix\")"
   ]
  },
  {
   "cell_type": "code",
   "execution_count": null,
   "id": "cc042b79",
   "metadata": {
    "scrolled": false
   },
   "outputs": [],
   "source": [
    "hp.mollview(wham_gt, cmap=\"cubehelix\")"
   ]
  },
  {
   "cell_type": "markdown",
   "id": "ec0caa0f",
   "metadata": {},
   "source": [
    "## Create spherical graph"
   ]
  },
  {
   "cell_type": "code",
   "execution_count": null,
   "id": "f7fd4a06",
   "metadata": {},
   "outputs": [],
   "source": [
    "from functools import partial\n",
    "from scipy import sparse, spatial, linalg\n",
    "\n",
    "def _kernel_exponential(distance, power=1, value_at_one=0.5):\n",
    "        cst = np.log(value_at_one)\n",
    "        return np.exp(cst * distance**power)\n",
    "\n",
    "def hpix_nngraph(hpix_map):\n",
    "    npix = len(hpix_map)\n",
    "    nside = hp.npix2nside(npix)\n",
    "    x, y, z = hp.pix2vec(nside, np.arange(npix))\n",
    "    R = np.stack((x, y, z), axis=-1)\n",
    "    cols = hp.get_all_neighbours(nside, np.arange(npix)).transpose().reshape(-1)\n",
    "    cols[cols == -1] = npix - 1\n",
    "    rows = np.repeat(np.arange(npix), 8, axis=-1).transpose().reshape(-1)\n",
    "\n",
    "    W = sparse.coo_matrix((cols * 0 + 1, (rows, cols)), shape=(npix, npix))\n",
    "    extended_row = np.concatenate([W.row, W.col])\n",
    "    extended_col = np.concatenate([W.col, W.row])\n",
    "    W.row, W.col = extended_row, extended_col\n",
    "    W.data = np.concatenate([W.data, W.data])\n",
    "    W = W.tocsr().tocoo()\n",
    "    distance = linalg.norm(R[W.row, :] - R[W.col, :], axis=-1)\n",
    "    rho = np.mean(distance)\n",
    "    W.data = np.exp(- (distance / rho) ** 2)\n",
    "    W = W.tocsc()\n",
    "\n",
    "    return W, R\n",
    "\n",
    "\n",
    "\n",
    "def hpix_graph(hpix_map, indexes=None, nest=False, **kwargs):\n",
    "    \n",
    "    n_vertices = len(hpix_map)\n",
    "    nside = hp.npix2nside(n_vertices)\n",
    "    indexes = np.arange(n_vertices)\n",
    "    x, y, z = hp.pix2vec(nside, indexes, nest=nest)\n",
    "    coords = np.stack([x, y, z], axis=1)\n",
    "    k = kwargs.pop('k', 10)\n",
    "    params = dict(p=2, k=k+1, eps=0)\n",
    "    tree = spatial.cKDTree(coords)\n",
    "    \n",
    "    distances, neighbors = tree.query(coords, **params)\n",
    "    n_edges = [len(n) - 1 for n in neighbors]  # remove distance to self\n",
    "\n",
    "    value = np.empty(sum(n_edges), dtype=float)\n",
    "    row = np.empty_like(value, dtype=int)\n",
    "    col = np.empty_like(value, dtype=int)\n",
    "    start = 0\n",
    "    for vertex in range(n_vertices):\n",
    "        assert n_edges[vertex] == k\n",
    "        end = start + n_edges[vertex]\n",
    "        value[start:end] = distances[vertex][1:]\n",
    "        row[start:end] = np.full(n_edges[vertex], vertex)\n",
    "        col[start:end] = neighbors[vertex][1:]\n",
    "        start = end\n",
    "    W = sparse.csr_matrix((value, (row, col)), (n_vertices, n_vertices))\n",
    "        \n",
    "    kernel_width = np.mean(W.data)\n",
    "    kernel = partial(_kernel_exponential, power=2)\n",
    "    W.data = kernel(W.data / kernel_width)\n",
    "    lat, lon = hp.pix2ang(nside, indexes, nest=nest, lonlat=False)\n",
    "    lat = np.pi/2 - lat  # colatitude to latitude\n",
    "    return W, coords, lat, lon\n"
   ]
  },
  {
   "cell_type": "code",
   "execution_count": null,
   "id": "1ab134ca",
   "metadata": {},
   "outputs": [],
   "source": [
    "import pycsou.abc as pyca\n",
    "class SphericalPooling(pyca.LinOp):\n",
    "    def __init__(self, nside_in: int, nside_out: int, order_in: str = 'RING', order_out: str = 'RING',\n",
    "                 pooling_func: str = 'mean'):\n",
    "        r\"\"\"\n",
    "\n",
    "        Parameters\n",
    "        ----------\n",
    "        nside_in: int\n",
    "            Parameter NSIDE of the input HEALPix map.\n",
    "        nside_out: int\n",
    "            Parameter NSIDE of the pooled HEALPix map.\n",
    "        order_in: str ['RING', 'NESTED']\n",
    "            Ordering of the input HEALPix map.\n",
    "        order_out: str ['RING', 'NESTED']\n",
    "            Ordering of the pooled HEALPix map.\n",
    "        pooling_func: str ['mean', 'sum']\n",
    "            Pooling function.\n",
    "        dtype: type\n",
    "            Data type of the linear operator.\n",
    "\n",
    "        Raises\n",
    "        ------\n",
    "        ValueError\n",
    "            If ``nside_out >= nside_in``.\n",
    "        \"\"\"\n",
    "        if nside_out >= nside_in:\n",
    "            raise ValueError('Parameter nside_out must be smaller than nside_in.')\n",
    "        self.nside_in = nside_in\n",
    "        self.nside_out = nside_out\n",
    "        self.order_in = order_in\n",
    "        self.order_out = order_out\n",
    "        self._power = None if pooling_func == 'mean' else -2\n",
    "        dim = hp.pixelfunc.nside2npix(nside_in)\n",
    "        codim = hp.pixelfunc.nside2npix(nside_out)\n",
    "        super(SphericalPooling, self).__init__(shape=(codim, dim))\n",
    "\n",
    "\n",
    "    def apply(self, map_in: np.ndarray) -> np.ndarray:\n",
    "        return hp.pixelfunc.ud_grade(map_in=map_in, nside_out=self.nside_out, order_in=self.order_in, order_out=self.order_out,\n",
    "                        dtype=map_in.dtype, power=self._power)\n",
    "\n",
    "    def adjoint(self, pooled_map: np.ndarray) -> np.ndarray:\n",
    "        return hp.pixelfunc.ud_grade(map_in=pooled_map, nside_out=self.nside_in, order_in=self.order_out, order_out=self.order_in,\n",
    "                        dtype=pooled_map.dtype)"
   ]
  },
  {
   "cell_type": "code",
   "execution_count": null,
   "id": "df228e43",
   "metadata": {},
   "outputs": [],
   "source": [
    "#W, coords, lat, lon = hpix_graph(wham_gt)\n",
    "W, R = hpix_nngraph(wham_gt)\n",
    "import pygsp\n",
    "sphere = pygsp.graphs.Graph(W, coords=R)\n",
    "sphere.N, sphere.Ne"
   ]
  },
  {
   "cell_type": "code",
   "execution_count": null,
   "id": "44dbc144",
   "metadata": {},
   "outputs": [],
   "source": [
    "fig, ax = plt.subplots(1,2, figsize=(15,5),subplot_kw = {\"projection\":\"3d\"})\n",
    "ax[0].scatter(*R.T, s=5, c=wham_gt, alpha=0.5, cmap=\"cubehelix\")\n",
    "sphere.plot_signal(wham_gt, ax=ax[1])\n",
    "ax[1].set_title(\"\")\n",
    "plt.show()"
   ]
  },
  {
   "cell_type": "markdown",
   "id": "b00ae8f2",
   "metadata": {},
   "source": [
    "## Data acquisition (blurring)"
   ]
  },
  {
   "cell_type": "code",
   "execution_count": null,
   "id": "9128bea1",
   "metadata": {},
   "outputs": [],
   "source": [
    "import pycgsp.operator.linop.conv as pycgspc\n",
    "import pycgsp.operator.linop.diff as pycgspd"
   ]
  },
  {
   "cell_type": "code",
   "execution_count": null,
   "id": "725b4ce2",
   "metadata": {},
   "outputs": [],
   "source": [
    "laplacian = pycgspd.GraphLaplacian(W)\n",
    "laplacian"
   ]
  },
  {
   "cell_type": "code",
   "execution_count": null,
   "id": "b722c0bb",
   "metadata": {
    "scrolled": true
   },
   "outputs": [],
   "source": [
    "lmax = laplacian.lipschitz(tight=False)\n",
    "lmax"
   ]
  },
  {
   "cell_type": "code",
   "execution_count": null,
   "id": "c05aae97",
   "metadata": {},
   "outputs": [],
   "source": [
    "kernel = lambda x: np.exp(-2*x)\n",
    "conv, _, _ = pycgspc.GraphConvolution(L=laplacian, \n",
    "                             kernel=kernel,\n",
    "                             lmax=laplacian.lipschitz(tight=True),\n",
    "                             order=20)\n",
    "conv.lipschitz(tight=True)"
   ]
  },
  {
   "cell_type": "code",
   "execution_count": null,
   "id": "25e51578",
   "metadata": {},
   "outputs": [],
   "source": [
    "n = 0.01*np.random.randn(sphere.N)\n",
    "y = conv(wham_gt) + n"
   ]
  },
  {
   "cell_type": "code",
   "execution_count": null,
   "id": "5a2e6431",
   "metadata": {},
   "outputs": [],
   "source": [
    "hp.mollview(wham_gt, cmap=\"cubehelix\")\n",
    "hp.mollview(y, cmap=\"cubehelix\")"
   ]
  },
  {
   "cell_type": "code",
   "execution_count": null,
   "id": "dc90cc42",
   "metadata": {},
   "outputs": [],
   "source": [
    "from pycsou.opt.solver.pds import PD3O\n",
    "from pycsou._dev import SquaredL2Norm, L1Norm"
   ]
  },
  {
   "cell_type": "code",
   "execution_count": null,
   "id": "acd5ea9d",
   "metadata": {},
   "outputs": [],
   "source": [
    "l22_loss = (1/2) * SquaredL2Norm(y.size).argshift(-y)\n",
    "fidelity = l22_loss * conv\n",
    "fidelity.diff_lipschitz(tight=True)\n",
    "K = pycgspd.GraphGradient(W)\n",
    "K.lipschitz(tight=True)\n",
    "H = 0.0005 * L1Norm()\n",
    "G = 0.1 * L1Norm()"
   ]
  },
  {
   "cell_type": "code",
   "execution_count": null,
   "id": "ea2537d2",
   "metadata": {},
   "outputs": [],
   "source": [
    "loss = fidelity + G + H * K\n",
    "x0 = np.random.randn(wham_gt.size)\n",
    "print(fidelity(x0))\n",
    "print(G(x0))\n",
    "print((H * K)(x0))\n",
    "print(loss(x0))"
   ]
  },
  {
   "cell_type": "code",
   "execution_count": null,
   "id": "7178e9dd",
   "metadata": {
    "scrolled": true
   },
   "outputs": [],
   "source": [
    "solver = PD3O(f=fidelity, g=G, h=H, K=K, show_progress=True, verbosity=250)\n",
    "solver.fit(x0=x0, tuning_strategy=2)\n",
    "recons = solver.solution()"
   ]
  },
  {
   "cell_type": "code",
   "execution_count": null,
   "id": "05d589a7",
   "metadata": {},
   "outputs": [],
   "source": [
    "hp.mollview(wham_gt, cmap=\"cubehelix\")\n",
    "hp.mollview(y, cmap=\"cubehelix\")\n",
    "hp.mollview(recons, cmap=\"cubehelix\")"
   ]
  },
  {
   "cell_type": "markdown",
   "id": "402d222c",
   "metadata": {},
   "source": [
    "# Add downsampling (pooling)"
   ]
  },
  {
   "cell_type": "code",
   "execution_count": null,
   "id": "a6be82e5",
   "metadata": {},
   "outputs": [],
   "source": [
    "d_factor = 2\n",
    "\n",
    "nsensors = hp.nside2npix(nside//d_factor)\n",
    "\n",
    "pooling = SphericalPooling(nside_in=nside, nside_out=nside//d_factor, pooling_func=\"sum\")\n",
    "wham_pooled = pooling(wham_gt)\n",
    "\n",
    "\n",
    "n = 0.01*np.random.randn(nsensors)\n",
    "y2 = pooling(conv(wham_gt)) + n"
   ]
  },
  {
   "cell_type": "code",
   "execution_count": null,
   "id": "c2774d77",
   "metadata": {},
   "outputs": [],
   "source": [
    "hp.mollview(wham_gt, cmap=\"cubehelix\")\n",
    "hp.mollview(y2, cmap=\"cubehelix\")"
   ]
  },
  {
   "cell_type": "code",
   "execution_count": null,
   "id": "ffc0a161",
   "metadata": {},
   "outputs": [],
   "source": [
    "l22_loss = (1/2) * SquaredL2Norm(y2.size).argshift(-y2)\n",
    "fidelity2 = l22_loss * pooling * conv\n",
    "fidelity2.diff_lipschitz(tight=True)\n",
    "K = pycgspd.GraphGradient(W)\n",
    "K.lipschitz(tight=True)\n",
    "\n",
    "loss = fidelity2 + G + H * K\n",
    "x0 = np.random.randn(wham_gt.size)\n",
    "print(fidelity(x0))\n",
    "print(G(x0))\n",
    "print((H * K)(x0))\n",
    "print(loss(x0))"
   ]
  },
  {
   "cell_type": "code",
   "execution_count": null,
   "id": "1e646e44",
   "metadata": {
    "scrolled": true
   },
   "outputs": [],
   "source": [
    "solver = PD3O(f=fidelity2, g=G, h=H, K=K, show_progress=True, verbosity=250)\n",
    "solver.fit(x0=x0, tuning_strategy=2)\n",
    "recons2 = solver.solution()"
   ]
  },
  {
   "cell_type": "code",
   "execution_count": null,
   "id": "fa239ee0",
   "metadata": {
    "scrolled": false
   },
   "outputs": [],
   "source": [
    "hp.mollview(wham_gt, cmap=\"cubehelix\")\n",
    "hp.mollview(y2, cmap=\"cubehelix\")\n",
    "hp.mollview(recons2, cmap=\"cubehelix\")"
   ]
  }
 ],
 "metadata": {
  "kernelspec": {
   "display_name": "Python 3 (ipykernel)",
   "language": "python",
   "name": "python3"
  },
  "language_info": {
   "codemirror_mode": {
    "name": "ipython",
    "version": 3
   },
   "file_extension": ".py",
   "mimetype": "text/x-python",
   "name": "python",
   "nbconvert_exporter": "python",
   "pygments_lexer": "ipython3",
   "version": "3.10.10"
  }
 },
 "nbformat": 4,
 "nbformat_minor": 5
}
